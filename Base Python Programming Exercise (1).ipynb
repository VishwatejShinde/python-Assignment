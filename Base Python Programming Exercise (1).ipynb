{
 "cells": [
  {
   "cell_type": "markdown",
   "metadata": {},
   "source": []
  },
  {
   "cell_type": "markdown",
   "metadata": {},
   "source": [
    "## Python Basic Programming Exercises"
   ]
  },
  {
   "cell_type": "raw",
   "metadata": {},
   "source": [
    "Q1: What is the output of following expression\n",
    "    5 + 4 * 9 % (3 + 1) / 6 - 1"
   ]
  },
  {
   "cell_type": "code",
   "execution_count": null,
   "metadata": {},
   "outputs": [],
   "source": [
    "the output of the expression 5 + 4 * 9 % (3 + 1) / 6 - 1 is 4.0."
   ]
  },
  {
   "cell_type": "raw",
   "metadata": {},
   "source": [
    "Q2: Write a program to check if a Number is Odd or Even. Take number as a input from user at runtime."
   ]
  },
  {
   "cell_type": "code",
   "execution_count": null,
   "metadata": {},
   "outputs": [],
   "source": [
    "# Function to check if the number is odd or even\n",
    "def check_odd_even(number):\n",
    "    if number % 2 == 0:\n",
    "        return \"Even\"\n",
    "    else:\n",
    "        return \"Odd\"\n",
    "\n",
    "# Taking input from the user\n",
    "try:\n",
    "    user_input = int(input(\"Enter a number: \"))\n",
    "    result = check_odd_even(user_input)\n",
    "    print(f\"The number {user_input} is {result}.\")\n",
    "except ValueError:\n",
    "    print(\"Please enter a valid integer.\")\n"
   ]
  },
  {
   "cell_type": "raw",
   "metadata": {},
   "source": [
    "Q3: Write a program to display the multiplication table by taking a number as input. \n",
    "    [Hint : Use print statement inside of a loop]"
   ]
  },
  {
   "cell_type": "code",
   "execution_count": null,
   "metadata": {},
   "outputs": [],
   "source": [
    "# Function to display the multiplication table\n",
    "def display_multiplication_table(number):\n",
    "    for i in range(1, 11):\n",
    "        print(f\"{number} x {i} = {number * i}\")\n",
    "\n",
    "# Taking input from the user\n",
    "try:\n",
    "    user_input = int(input(\"Enter a number: \"))\n",
    "    display_multiplication_table(user_input)\n",
    "except ValueError:\n",
    "    print(\"Please enter a valid integer.\")\n"
   ]
  },
  {
   "cell_type": "raw",
   "metadata": {},
   "source": [
    "Q4: Write a program which will find all numbers between 2000 and 3200 which are divisible by 7 \n",
    "    but are not a multiple of 5.\n",
    " \n",
    "Note: The numbers obtained should be printed in a comma-separated sequence on a single line."
   ]
  },
  {
   "cell_type": "code",
   "execution_count": null,
   "metadata": {},
   "outputs": [],
   "source": [
    "# List to store the numbers\n",
    "result = []\n",
    "\n",
    "# Loop through the range\n",
    "for i in range(2000, 3201):\n",
    "    if i % 7 == 0 and i % 5 != 0:\n",
    "        result.append(str(i))\n",
    "\n",
    "# Print the result as a comma-separated sequence\n",
    "print(\",\".join(result))\n"
   ]
  },
  {
   "cell_type": "raw",
   "metadata": {},
   "source": [
    "Q5: Count the elements of each datatype inside the list and display in output\n",
    "    [2, 3, 'Py', '10', 1, 'SQL', 5.5, True, 3, 'John', None, 7]    "
   ]
  },
  {
   "cell_type": "code",
   "execution_count": null,
   "metadata": {},
   "outputs": [],
   "source": [
    "# List to analyze\n",
    "data_list = [2, 3, 'Py', '10', 1, 'SQL', 5.5, True, 3, 'John', None, 7]\n",
    "\n",
    "# Dictionary to store the count of each datatype\n",
    "datatype_count = {\n",
    "    'int': 0,\n",
    "    'str': 0,\n",
    "    'float': 0,\n",
    "    'bool': 0,\n",
    "    'NoneType': 0\n",
    "}\n",
    "\n",
    "# Loop through the list and count each datatype\n",
    "for item in data_list:\n",
    "    datatype = type(item).__name__\n",
    "    if datatype in datatype_count:\n",
    "        datatype_count[datatype] += 1\n",
    "\n",
    "# Display the output\n",
    "for datatype, count in datatype_count.items():\n",
    "    print(f\"{datatype}: {count}\")\n"
   ]
  },
  {
   "cell_type": "raw",
   "metadata": {},
   "source": [
    "Q6: Add all values from the list with numeric datatypes \n",
    "    [2, 3, 'Py', '10', 1, 'SQL', 5.5, True, 3, 'John', None, 7] "
   ]
  },
  {
   "cell_type": "code",
   "execution_count": null,
   "metadata": {},
   "outputs": [],
   "source": [
    "# List to analyze\n",
    "data_list = [2, 3, 'Py', '10', 1, 'SQL', 5.5, True, 3, 'John', None, 7]\n",
    "\n",
    "# Initialize sum\n",
    "total_sum = 0\n",
    "\n",
    "# Loop through the list and add numeric values\n",
    "for item in data_list:\n",
    "    if isinstance(item, (int, float)) and not isinstance(item, bool):\n",
    "        total_sum += item\n",
    "\n",
    "# Display the result\n",
    "print(f\"The sum of all numeric values is: {total_sum}\")\n"
   ]
  },
  {
   "cell_type": "raw",
   "metadata": {},
   "source": [
    "Q7: Concat all str datatypes with hyphen as a delimiter\n",
    "    [2, 3, 'Py', '10', 1, 'SQL', 5.5, True, 3, 'John', None, 7] "
   ]
  },
  {
   "cell_type": "code",
   "execution_count": null,
   "metadata": {},
   "outputs": [],
   "source": [
    "# List to analyze\n",
    "data_list = [2, 3, 'Py', '10', 1, 'SQL', 5.5, True, 3, 'John', None, 7]\n",
    "\n",
    "# List to store string values\n",
    "string_values = []\n",
    "\n",
    "# Loop through the list and collect string values\n",
    "for item in data_list:\n",
    "    if isinstance(item, str):\n",
    "        string_values.append(item)\n",
    "\n",
    "# Concatenate string values with hyphen as delimiter\n",
    "result = \"-\".join(string_values)\n",
    "\n",
    "# Display the result\n",
    "print(result)\n"
   ]
  },
  {
   "cell_type": "raw",
   "metadata": {},
   "source": [
    "Q8 Get only odd numbers from the following list and store the numbers in new list\n",
    "    li = [5, 7, 22, 97, 54, 62, 77, 23, 73, 61]\n",
    "\n",
    "    i. Use loops to get the answer\n",
    "   ii. Use list comprehensions\n",
    "  iii. Use lambda function with filter"
   ]
  },
  {
   "cell_type": "code",
   "execution_count": null,
   "metadata": {},
   "outputs": [],
   "source": [
    "i] using loops to get the answere\n",
    "li = [5, 7, 22, 97, 54, 62, 77, 23, 73, 61]\n",
    "odd_numbers = []\n",
    "\n",
    "for num in li:\n",
    "    if num % 2 != 0:\n",
    "        odd_numbers.append(num)\n",
    "\n",
    "print(odd_numbers)\n",
    "\n",
    "ii] Use list comprehensions \n",
    "\n",
    "li = [5, 7, 22, 97, 54, 62, 77, 23, 73, 61]\n",
    "odd_numbers = [num for num in li if num % 2 != 0]\n",
    "\n",
    "print(odd_numbers)\n",
    "\n",
    "iii] Use lambda function with filter\n",
    "\n",
    "li = [5, 7, 22, 97, 54, 62, 77, 23, 73, 61]\n",
    "odd_numbers = list(filter(lambda x: x % 2 != 0, li))\n",
    "\n",
    "print(odd_numbers)\n"
   ]
  },
  {
   "cell_type": "raw",
   "metadata": {},
   "source": [
    "Q9: Write an udf to calculate the area of different shapes\n",
    "\n",
    "Take shape and dimensions as arguments to udf as follows : \n",
    "\n",
    "1. square which has side\n",
    "2. rectangle which has length and width\n",
    "3. circle which has radius\n",
    "\n",
    "The shape should be a positional argument and it's dimensions are taken as kwargs\n",
    "\n",
    "Perform proper validation for the user inputs and then calculate area.\n",
    "\n",
    "E.g. if shape is square, ensure kwargs has \"side\" and if so, then you may return the area, else display appropriate error message like \"Please enter 'side' for a square\""
   ]
  },
  {
   "cell_type": "code",
   "execution_count": null,
   "metadata": {},
   "outputs": [],
   "source": [
    "\n",
    "    def calculate_area(shape, **kwargs):\n",
    "    if shape == \"square\":\n",
    "        if \"side\" in kwargs:\n",
    "            side = kwargs[\"side\"]\n",
    "            return side * side\n",
    "        else:\n",
    "            return \"Please enter 'side' for a square.\"\n",
    "    \n",
    "    elif shape == \"rectangle\":\n",
    "        if \"length\" in kwargs and \"width\" in kwargs:\n",
    "            length = kwargs[\"length\"]\n",
    "            width = kwargs[\"width\"]\n",
    "            return length * width\n",
    "        else:\n",
    "            return \"Please enter both 'length' and 'width' for a rectangle.\"\n",
    "    \n",
    "    elif shape == \"circle\":\n",
    "        if \"radius\" in kwargs:\n",
    "            radius = kwargs[\"radius\"]\n",
    "            return 3.14159 * radius * radius\n",
    "        else:\n",
    "            return \"Please enter 'radius' for a circle.\"\n",
    "    \n",
    "    else:\n",
    "        return \"Unsupported shape. Please enter 'square', 'rectangle', or 'circle'.\"\n",
    "\n",
    "# Example usage\n",
    "print(calculate_area(\"square\", side=4))        # Output: 16\n",
    "print(calculate_area(\"rectangle\", length=5, width=3))  # Output: 15\n",
    "print(calculate_area(\"circle\", radius=7))      # Output: 153.93791\n",
    "print(calculate_area(\"square\"))                # Output: Please enter 'side' for a square.\n",
    "print(calculate_area(\"triangle\", base=5, height=10))  # Output: Unsupported shape. Please enter 'square', 'rectangle', or 'circle'.\n"
   ]
  },
  {
   "cell_type": "raw",
   "metadata": {
    "collapsed": true,
    "jupyter": {
     "outputs_hidden": true
    }
   },
   "source": [
    "Q10: write a UDF to check if a number is prime or not."
   ]
  },
  {
   "cell_type": "raw",
   "metadata": {
    "collapsed": true,
    "jupyter": {
     "outputs_hidden": true
    },
    "vscode": {
     "languageId": "raw"
    }
   },
   "source": [
    "def is_prime(number):\n",
    "    # Check if the number is less than or equal to 1\n",
    "    if number <= 1:\n",
    "        return False\n",
    "    # Check for factors from 2 to the square root of the number\n",
    "    for i in range(2, int(number**0.5) + 1):\n",
    "        if number % i == 0:\n",
    "            return False\n",
    "    return True\n",
    "\n",
    "# Example usage\n",
    "num = 29\n",
    "if is_prime(num):\n",
    "    print(f\"{num} is a prime number.\")\n",
    "else:\n",
    "    print(f\"{num} is not a prime number.\")\n",
    "\n"
   ]
  },
  {
   "cell_type": "raw",
   "metadata": {
    "collapsed": true,
    "jupyter": {
     "outputs_hidden": true
    }
   },
   "source": [
    "Q11. Write a program that takes a string and returns reversed string. i.e. if input is \"abcd123\" output should be \"321dcba\""
   ]
  },
  {
   "cell_type": "code",
   "execution_count": null,
   "metadata": {},
   "outputs": [],
   "source": [
    "def reverse_string(input_string):\n",
    "    return input_string[::-1]\n",
    "\n",
    "# Example usage\n",
    "input_str = \"abcd123\"\n",
    "reversed_str = reverse_string(input_str)\n",
    "print(f\"Reversed string: {reversed_str}\")\n"
   ]
  },
  {
   "cell_type": "code",
   "execution_count": null,
   "metadata": {},
   "outputs": [],
   "source": []
  }
 ],
 "metadata": {
  "kernelspec": {
   "display_name": "Python 3 (ipykernel)",
   "language": "python",
   "name": "python3"
  },
  "language_info": {
   "codemirror_mode": {
    "name": "ipython",
    "version": 3
   },
   "file_extension": ".py",
   "mimetype": "text/x-python",
   "name": "python",
   "nbconvert_exporter": "python",
   "pygments_lexer": "ipython3",
   "version": "3.12.4"
  },
  "varInspector": {
   "cols": {
    "lenName": 16,
    "lenType": 16,
    "lenVar": 40
   },
   "kernels_config": {
    "python": {
     "delete_cmd_postfix": "",
     "delete_cmd_prefix": "del ",
     "library": "var_list.py",
     "varRefreshCmd": "print(var_dic_list())"
    },
    "r": {
     "delete_cmd_postfix": ") ",
     "delete_cmd_prefix": "rm(",
     "library": "var_list.r",
     "varRefreshCmd": "cat(var_dic_list()) "
    }
   },
   "types_to_exclude": [
    "module",
    "function",
    "builtin_function_or_method",
    "instance",
    "_Feature"
   ],
   "window_display": false
  }
 },
 "nbformat": 4,
 "nbformat_minor": 4
}
